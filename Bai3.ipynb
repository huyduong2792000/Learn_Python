{
 "cells": [
  {
   "cell_type": "code",
   "execution_count": 5,
   "metadata": {},
   "outputs": [
    {
     "name": "stdout",
     "output_type": "stream",
     "text": [
      "Hello world!!! \n",
      "I love you 3000\n"
     ]
    }
   ],
   "source": [
    "import os\n",
    "\n",
    "print(\"Hello world!!! \\nI love you 3000\")"
   ]
  },
  {
   "cell_type": "markdown",
   "metadata": {},
   "source": [
    "============================================================================================"
   ]
  },
  {
   "cell_type": "markdown",
   "metadata": {},
   "source": [
    "### Python control flow statements\n",
    "- link slide: https://docs.google.com/presentation/d/1_qsWbI1VkCyfbMNxNGiq-ErDfQUPWr28Edwl2qLvDbQ/edit?fbclid=IwAR1j-6ZeTxvtv55y3RBvOAib-P3cADZH37VPKdlKgAY3dL9wa5_HmR_R2Wk\n",
    "\n",
    "- Hoá đơn là gi?\n",
    "- Chứng từ là gì?\n",
    "- Hoá đợn bán hàng gồm những thuốc tính nào?\n",
    "### Bài Tập\n",
    "##### - Viết chương trình nhập vào hoá đơn bán hàng, truy vẫn hoá đơn bán hàng theo mã hoá đơn,  thống kê theo ngày, trong tháng bạn Cường mua bào nhiểu lần, trong tháng bán được bao nhiêu coca cola.\n",
    "\n",
    "\n",
    "- làm cho ai?\n",
    "- làm cái gì?\n",
    "- và làm trên đối tượng nào?\n",
    "- kiểu dữ liệu và cấu trúc của đối tượng?\n",
    "\n",
    "##### Cấu trúc dữ liệu mẫu của hoá đơn\n",
    "\n",
    "hoa_don = {\n",
    "\n",
    "    \"ma_hd\":\"hd01\",\n",
    "    \"nv_ban_hang\":\"Nguyen Thi A\",\n",
    "    \"nguoi_mua\": \"Nguyen Van B\",\n",
    "    \"ngay_mua\": 01/01/2019,\n",
    "    \"items\":[\n",
    "        {\n",
    "            \"stt\":1,\n",
    "            \"item_code\":\"it01\",\n",
    "            \"item_name\":\"thịt bò\",\n",
    "            \"price\": 100000.0\n",
    "            \"quantity\": 10\n",
    "            \"amount\": 1000000.0\n",
    "            \"description\":\"bò kobe\"\n",
    "           \n",
    "        },\n",
    "        {\n",
    "            \"stt\":2,\n",
    "            \"item_code\":\"it02\",\n",
    "            \"item_name\":\"Cá hồi\",\n",
    "            \"price\": 50000.0\n",
    "            \"quantity\": 10\n",
    "            \"amount\": 500000.0\n",
    "            \"description\":\"Cá hồi tươi\"\n",
    "           \n",
    "        },\n",
    "    ],\n",
    "    \"total_amount\": 1500000.0\n",
    "    \"tax\": 10% (0.1)\n",
    "    \"net_amount\": 1650000.0\n",
    "}\n"
   ]
  },
  {
   "cell_type": "markdown",
   "metadata": {},
   "source": [
    "============================================================================================"
   ]
  },
  {
   "cell_type": "markdown",
   "metadata": {},
   "source": [
    "## Có 2 cách viết chương trình python:\n",
    "\n",
    "- Interactive Mode:\n",
    "- Script Mode\n"
   ]
  },
  {
   "cell_type": "markdown",
   "metadata": {},
   "source": [
    "- Thao tác tên file\n",
    "\n",
    "- Tạo file:\n",
    "\n",
    "$ nano main.py\n",
    "\n",
    "\n",
    "- control + X\n",
    "- y \n",
    "- enter => lưu file\n",
    "\n",
    "$ python3 main.py"
   ]
  },
  {
   "cell_type": "markdown",
   "metadata": {},
   "source": [
    "##### If, elif, else Statements in python\n",
    "- if \n",
    "- elif\n",
    "- else\n"
   ]
  },
  {
   "cell_type": "code",
   "execution_count": 19,
   "metadata": {},
   "outputs": [
    {
     "name": "stdout",
     "output_type": "stream",
     "text": [
      "What is your name?123\n",
      "Hello 123\n"
     ]
    }
   ],
   "source": [
    "name = input(\"What is your name?\")\n",
    "\n",
    "if name == \"Cuong\":\n",
    "    print(\"Hello anh Cuong\")\n",
    "elif name == \"Hong\":\n",
    "    print(\"Hello chi Hong\")\n",
    "else:\n",
    "    print(\"Hello \" + name)\n"
   ]
  },
  {
   "cell_type": "markdown",
   "metadata": {},
   "source": [
    "### Comparision Operators -  Toán tử so sánh trong python\n",
    "\n",
    "-  \"==\"\n",
    "-  \"!=\"\n",
    "-  \">\"\n",
    "-  \"<\"\n",
    "-  \">=\"\n",
    "-  \"<=\"\n",
    "\n"
   ]
  },
  {
   "cell_type": "code",
   "execution_count": 8,
   "metadata": {},
   "outputs": [
    {
     "data": {
      "text/plain": [
       "False"
      ]
     },
     "execution_count": 8,
     "metadata": {},
     "output_type": "execute_result"
    }
   ],
   "source": [
    "1==2\n",
    "\n"
   ]
  },
  {
   "cell_type": "code",
   "execution_count": 9,
   "metadata": {},
   "outputs": [
    {
     "data": {
      "text/plain": [
       "True"
      ]
     },
     "execution_count": 9,
     "metadata": {},
     "output_type": "execute_result"
    }
   ],
   "source": [
    "1==1"
   ]
  },
  {
   "cell_type": "code",
   "execution_count": 10,
   "metadata": {},
   "outputs": [
    {
     "data": {
      "text/plain": [
       "True"
      ]
     },
     "execution_count": 10,
     "metadata": {},
     "output_type": "execute_result"
    }
   ],
   "source": [
    "1!=2"
   ]
  },
  {
   "cell_type": "code",
   "execution_count": 11,
   "metadata": {},
   "outputs": [
    {
     "data": {
      "text/plain": [
       "False"
      ]
     },
     "execution_count": 11,
     "metadata": {},
     "output_type": "execute_result"
    }
   ],
   "source": [
    "1>2"
   ]
  },
  {
   "cell_type": "code",
   "execution_count": 12,
   "metadata": {},
   "outputs": [
    {
     "data": {
      "text/plain": [
       "True"
      ]
     },
     "execution_count": 12,
     "metadata": {},
     "output_type": "execute_result"
    }
   ],
   "source": [
    "1<2"
   ]
  },
  {
   "cell_type": "code",
   "execution_count": 14,
   "metadata": {},
   "outputs": [
    {
     "data": {
      "text/plain": [
       "True"
      ]
     },
     "execution_count": 14,
     "metadata": {},
     "output_type": "execute_result"
    }
   ],
   "source": [
    "1<=2"
   ]
  },
  {
   "cell_type": "code",
   "execution_count": 15,
   "metadata": {},
   "outputs": [
    {
     "data": {
      "text/plain": [
       "False"
      ]
     },
     "execution_count": 15,
     "metadata": {},
     "output_type": "execute_result"
    }
   ],
   "source": [
    "1>=2"
   ]
  },
  {
   "cell_type": "code",
   "execution_count": 16,
   "metadata": {},
   "outputs": [
    {
     "data": {
      "text/plain": [
       "True"
      ]
     },
     "execution_count": 16,
     "metadata": {},
     "output_type": "execute_result"
    }
   ],
   "source": [
    "2>=1"
   ]
  },
  {
   "cell_type": "markdown",
   "metadata": {},
   "source": [
    "### Vòng Lặp trong python\n",
    "\n",
    "- for loop\n",
    "\n",
    "kiểm soát được số lần lặp lại\n",
    "\n",
    "- while loop\n",
    "\n",
    "chỉ nhận biết được sự kiện kết thực vòng lặp\n"
   ]
  },
  {
   "cell_type": "code",
   "execution_count": 20,
   "metadata": {},
   "outputs": [
    {
     "name": "stdout",
     "output_type": "stream",
     "text": [
      "element:  1\n",
      "element:  2\n",
      "element:  3\n"
     ]
    }
   ],
   "source": [
    "# nano main.py\n",
    "# for loop in python\n",
    "# cú pháp vòng lặp for trong python - Syntax of a for loop:\n",
    "my_list  = [1,2,3]\n",
    "for element in my_list:\n",
    "    print(\"element: \", element)\n",
    "    \n",
    "# python main.py"
   ]
  },
  {
   "cell_type": "code",
   "execution_count": 22,
   "metadata": {},
   "outputs": [
    {
     "name": "stdout",
     "output_type": "stream",
     "text": [
      "in ra gtri tu 0 - 9\n",
      "ồ hố:  0\n",
      "ồ hố:  1\n",
      "ồ hố:  2\n",
      "ồ hố:  3\n",
      "ồ hố:  4\n",
      "ồ hố:  5\n",
      "ồ hố:  6\n",
      "ồ hố:  7\n",
      "ồ hố:  8\n",
      "ồ hố:  9\n"
     ]
    }
   ],
   "source": [
    "# for loop in python\n",
    "print(\"in ra gtri tu 0 - 9\")\n",
    "for i in range(0,10):\n",
    "    print(\"ồ hố: \", i)"
   ]
  },
  {
   "cell_type": "code",
   "execution_count": 51,
   "metadata": {},
   "outputs": [
    {
     "name": "stdout",
     "output_type": "stream",
     "text": [
      "0\n",
      "1\n",
      "2\n",
      "3\n",
      "4\n",
      "5\n",
      "6\n",
      "7\n",
      "8\n",
      "9\n",
      "10\n"
     ]
    }
   ],
   "source": [
    "# while loop in python\n",
    "# cú pháp vòng lặp while trong python - Syntax of a while loop:\n",
    "i = 0\n",
    "while (i<=10):\n",
    "    print(i)\n",
    "    i=i+1"
   ]
  },
  {
   "cell_type": "code",
   "execution_count": 26,
   "metadata": {},
   "outputs": [
    {
     "name": "stdout",
     "output_type": "stream",
     "text": [
      "số lẻ:  1\n",
      "số chẵn:  4\n",
      "số chẵn:  2\n",
      "số lẻ:  3\n",
      "số lẻ:  65\n",
      "số lẻ:  87\n",
      "số chẵn:  898\n",
      "số chẵn:  98\n",
      "số chẵn:  34\n",
      "số chẵn:  2\n",
      "số lẻ:  123\n",
      "số lẻ:  213\n",
      "số chẵn:  54\n",
      "số chẵn:  546\n",
      "số chẵn:  56\n",
      "số lẻ:  767\n",
      "số chẵn:  2\n"
     ]
    }
   ],
   "source": [
    "# tìm số chẵn lẻ trong 1 list\n",
    "# nano tim_chan_le.py\n",
    "\n",
    "my_list = [1,4,2,3,65,87,898,98,34,2,123,213,54,546,56,767,2]\n",
    "\n",
    "for number in my_list:\n",
    "    # nếu số đó chia hết cho 2 thì nó là số chẵn và nếu không chia hết thì nó là số lẻ\n",
    "    if number % 2 == 0:\n",
    "        print(\"số chẵn: \", number)\n",
    "    else:\n",
    "        print(\"số lẻ: \", number)\n",
    "    \n",
    "# python tim_chan_le.py"
   ]
  },
  {
   "cell_type": "code",
   "execution_count": 29,
   "metadata": {},
   "outputs": [
    {
     "name": "stdout",
     "output_type": "stream",
     "text": [
      "15\n"
     ]
    }
   ],
   "source": [
    "# nano tinh_tong.py\n",
    "\n",
    "list_sum = 0\n",
    "mylist = [1,2,3,4,5]\n",
    "\n",
    "for num in mylist:\n",
    "    list_sum = list_sum + num\n",
    "print(list_sum)\n",
    "\n",
    "# python tinh_tong.py\n"
   ]
  },
  {
   "cell_type": "code",
   "execution_count": 31,
   "metadata": {},
   "outputs": [
    {
     "name": "stdout",
     "output_type": "stream",
     "text": [
      "1\n",
      "2\n",
      "3\n",
      "-----\n",
      "k1 1\n",
      "k2 2\n",
      "k3 3\n"
     ]
    }
   ],
   "source": [
    "# thao_tac_dict.py\n",
    "\n",
    "d = {'k1': 1, 'k2': 2, 'k3': 3}\n",
    "for value in d.values():\n",
    "   print(value)\n",
    "\n",
    "print(\"-----\")\n",
    "\n",
    "for key in d:\n",
    "   print(key, d[key])\n",
    "\n",
    "# python thao_tac_dict.py"
   ]
  },
  {
   "cell_type": "code",
   "execution_count": 36,
   "metadata": {},
   "outputs": [
    {
     "name": "stdout",
     "output_type": "stream",
     "text": [
      "key trong dict thông tin của minh là:  hovaten\n",
      "key trong dict thông tin của minh là:  ngaysinh\n",
      "key trong dict thông tin của minh là:  bangai\n",
      "bạn gái của minh:  Thi Gai\n"
     ]
    }
   ],
   "source": [
    "# nano thong_tin_ban_minh.py\n",
    "\n",
    "hocvien = {\n",
    "     \"hovaten\": \"Minh\",\n",
    "     \"ngaysinh\": \"1/1/1999\",\n",
    "     \"bangai\": {\"hovaten\": \"Thi Gai\", \"ngaysinh\": \"1/1/2006\"}\n",
    "}\n",
    "for key in hocvien:\n",
    "    print(\"key trong dict thông tin của minh là: \", key)\n",
    "    if key == \"bangai\":\n",
    "        print(\"bạn gái của minh: \", hocvien[key][\"hovaten\"])\n",
    "\n",
    "# python thong_tin_ban_minh.py"
   ]
  },
  {
   "cell_type": "markdown",
   "metadata": {},
   "source": [
    "============================================================================================"
   ]
  },
  {
   "cell_type": "markdown",
   "metadata": {},
   "source": [
    "#### While loop\n",
    "- While loops will continue to execute a block of code while some condition remains True.\n",
    "- Syntax of a while loop:\n",
    "\n",
    "while some_boolean_condition:\n",
    "    #do something\n",
    "\n",
    "#####   break, continue, pass\n",
    "\n",
    "- break: Breaks out of the current closest enclosing loop.\n",
    "- continue: Goes to the top of the closese enclosing loop.\n",
    "- pass: Does nothing at all\n",
    "\n"
   ]
  },
  {
   "cell_type": "code",
   "execution_count": 37,
   "metadata": {},
   "outputs": [
    {
     "name": "stdout",
     "output_type": "stream",
     "text": [
      "The current value of x is:  0\n",
      "The current value of x is:  1\n",
      "The current value of x is:  2\n",
      "The current value of x is:  3\n",
      "The current value of x is:  4\n"
     ]
    }
   ],
   "source": [
    "# loop_while.py\n",
    "x = 0\n",
    "while x < 5:\n",
    "    print('The current value of x is: ', x)\n",
    "    x = x + 1\n"
   ]
  },
  {
   "cell_type": "markdown",
   "metadata": {},
   "source": [
    "#####   break, continue, pass\n",
    "\n",
    "- break: Breaks out of the current closest enclosing loop.\n",
    "- continue: Goes to the top of the closese enclosing loop.\n",
    "- pass: Does nothing at all\n",
    "\n"
   ]
  },
  {
   "cell_type": "code",
   "execution_count": 38,
   "metadata": {},
   "outputs": [
    {
     "name": "stdout",
     "output_type": "stream",
     "text": [
      "The current value of x is:  0\n",
      "The current value of x is:  1\n",
      "The current value of x is:  2\n"
     ]
    }
   ],
   "source": [
    "# loop_while.py\n",
    "x = 0\n",
    "while x < 5:\n",
    "    print('The current value of x is: ', x)\n",
    "    \n",
    "    x = x + 1\n",
    "    if x == 3:\n",
    "        break\n",
    "\n"
   ]
  },
  {
   "cell_type": "code",
   "execution_count": 48,
   "metadata": {},
   "outputs": [
    {
     "ename": "SyntaxError",
     "evalue": "invalid syntax (<ipython-input-48-22ad4240c7b3>, line 9)",
     "output_type": "error",
     "traceback": [
      "\u001b[0;36m  File \u001b[0;32m\"<ipython-input-48-22ad4240c7b3>\"\u001b[0;36m, line \u001b[0;32m9\u001b[0m\n\u001b[0;31m    bre ak\u001b[0m\n\u001b[0m         ^\u001b[0m\n\u001b[0;31mSyntaxError\u001b[0m\u001b[0;31m:\u001b[0m invalid syntax\n"
     ]
    }
   ],
   "source": [
    "# loop_while.py\n",
    "x = 0\n",
    "while x < 5:\n",
    "    print('The current value of x is: ', x)\n",
    "    x = x + 1\n",
    "    if x == 3:\n",
    "        continue\n",
    "        break"
   ]
  },
  {
   "cell_type": "code",
   "execution_count": 49,
   "metadata": {},
   "outputs": [
    {
     "name": "stdout",
     "output_type": "stream",
     "text": [
      "The current value of x is:  1\n",
      "The current value of x is:  2\n",
      "The current value of x is:  4\n",
      "The current value of x is:  5\n"
     ]
    }
   ],
   "source": [
    "x = 0\n",
    "while x < 5:\n",
    "    x = x + 1\n",
    "    if x == 3:\n",
    "        continue\n",
    "    print('The current value of x is: ', x)"
   ]
  },
  {
   "cell_type": "code",
   "execution_count": 53,
   "metadata": {},
   "outputs": [
    {
     "name": "stdout",
     "output_type": "stream",
     "text": [
      "The current value of x is:  1\n",
      "The current value of x is:  2\n",
      "The current value of x is:  4\n",
      "The current value of x is:  5\n"
     ]
    }
   ],
   "source": [
    "x = 0\n",
    "while x < 5:\n",
    "    x = x + 1\n",
    "    if x == 3:\n",
    "        continue\n",
    "    print('The current value of x is: ', x)"
   ]
  },
  {
   "cell_type": "code",
   "execution_count": 55,
   "metadata": {},
   "outputs": [
    {
     "name": "stdout",
     "output_type": "stream",
     "text": [
      "The current value of x is:  1\n",
      "The current value of x is:  2\n",
      "The current value of x is:  4\n",
      "The current value of x is:  5\n"
     ]
    }
   ],
   "source": [
    "x = 0\n",
    "\n",
    "while x < 5:\n",
    "    x = x + 1\n",
    "    if x == 3:\n",
    "        pass\n",
    "    else:\n",
    "        print('The current value of x is: ', x)\n",
    "        "
   ]
  },
  {
   "cell_type": "markdown",
   "metadata": {},
   "source": [
    "==========================================================================================="
   ]
  },
  {
   "cell_type": "markdown",
   "metadata": {},
   "source": [
    "# Chương trình cuối"
   ]
  },
  {
   "cell_type": "code",
   "execution_count": 65,
   "metadata": {},
   "outputs": [],
   "source": [
    "def quan_ly_hoa_don():\n",
    "    danh_sach_hd = []\n",
    "    while True:\n",
    "        case = input(\"Mời bạn chọn chức năng:\\n \\\n",
    "            Tạo hoá đơn: 'C' \\n \\\n",
    "            Xem thông tin hoá đơn: 'V' \\n \\\n",
    "            Xoá hoá đơn: 'D' \\n \\\n",
    "            Thoát chương trình: exit \\n\")\n",
    "        print(\"case\", case)\n",
    "        \n",
    "quan_ly_hoa_don()\n",
    "#các bạn tự làm nhé. :D\n",
    "\n"
   ]
  },
  {
   "cell_type": "code",
   "execution_count": 2,
   "metadata": {},
   "outputs": [
    {
     "name": "stdout",
     "output_type": "stream",
     "text": [
      "+-------+-----+\n",
      "| Name  | Age |\n",
      "+=======+=====+\n",
      "| Alice | 24  |\n",
      "+-------+-----+\n",
      "| Bob   | 19  |\n",
      "+-------+-----+\n"
     ]
    }
   ],
   "source": [
    "\n",
    "import termtables as tt\n",
    "\n",
    "string = tt.to_string(\n",
    "    [[\"Alice\", 24], [\"Bob\", 19]],\n",
    "    header=[\"Name\", \"Age\"],\n",
    "    style=tt.styles.ascii_thin_double,\n",
    "    # alignment=\"ll\",\n",
    "    # padding=(0, 1),\n",
    ")\n",
    "print(string)"
   ]
  },
  {
   "cell_type": "code",
   "execution_count": null,
   "metadata": {},
   "outputs": [],
   "source": []
  }
 ],
 "metadata": {
  "kernelspec": {
   "display_name": "Python 3",
   "language": "python",
   "name": "python3"
  },
  "language_info": {
   "codemirror_mode": {
    "name": "ipython",
    "version": 3
   },
   "file_extension": ".py",
   "mimetype": "text/x-python",
   "name": "python",
   "nbconvert_exporter": "python",
   "pygments_lexer": "ipython3",
   "version": "3.7.3"
  }
 },
 "nbformat": 4,
 "nbformat_minor": 2
}
