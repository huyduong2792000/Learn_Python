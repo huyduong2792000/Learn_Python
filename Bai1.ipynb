{
 "cells": [
  {
   "cell_type": "code",
   "execution_count": 47,
   "metadata": {},
   "outputs": [
    {
     "name": "stdout",
     "output_type": "stream",
     "text": [
      "Hello word\n"
     ]
    }
   ],
   "source": [
    "print(\"Hello world\")"
   ]
  },
  {
   "cell_type": "code",
   "execution_count": 48,
   "metadata": {},
   "outputs": [
    {
     "name": "stdout",
     "output_type": "stream",
     "text": [
      "i love you 3000\n"
     ]
    }
   ],
   "source": [
    "print(\"i love you 3000\")"
   ]
  },
  {
   "cell_type": "code",
   "execution_count": 49,
   "metadata": {},
   "outputs": [
    {
     "name": "stdout",
     "output_type": "stream",
     "text": [
      "123456\n"
     ]
    }
   ],
   "source": [
    "print(123456)"
   ]
  },
  {
   "cell_type": "code",
   "execution_count": 136,
   "metadata": {},
   "outputs": [
    {
     "name": "stdout",
     "output_type": "stream",
     "text": [
      "in ra gtri tu 0 - 9\n",
      "ồ hố:  0\n",
      "ồ hố:  1\n",
      "ồ hố:  2\n",
      "ồ hố:  3\n",
      "ồ hố:  4\n",
      "ồ hố:  5\n",
      "ồ hố:  6\n",
      "ồ hố:  7\n",
      "ồ hố:  8\n",
      "ồ hố:  9\n"
     ]
    }
   ],
   "source": [
    "print(\"in ra gtri tu 0 - 9\")\n",
    "for i in range(0,10):\n",
    "    print(\"ồ hố: \", i)"
   ]
  },
  {
   "cell_type": "code",
   "execution_count": 51,
   "metadata": {},
   "outputs": [
    {
     "data": {
      "text/plain": [
       "3"
      ]
     },
     "execution_count": 51,
     "metadata": {},
     "output_type": "execute_result"
    }
   ],
   "source": [
    "1 + 2"
   ]
  },
  {
   "cell_type": "code",
   "execution_count": 52,
   "metadata": {},
   "outputs": [
    {
     "ename": "SyntaxError",
     "evalue": "invalid token (<ipython-input-52-76cefaf15f8a>, line 1)",
     "output_type": "error",
     "traceback": [
      "\u001b[0;36m  File \u001b[0;32m\"<ipython-input-52-76cefaf15f8a>\"\u001b[0;36m, line \u001b[0;32m1\u001b[0m\n\u001b[0;31m    0123 + 2\u001b[0m\n\u001b[0m       ^\u001b[0m\n\u001b[0;31mSyntaxError\u001b[0m\u001b[0;31m:\u001b[0m invalid token\n"
     ]
    }
   ],
   "source": [
    "0123 + 2"
   ]
  },
  {
   "cell_type": "code",
   "execution_count": 55,
   "metadata": {},
   "outputs": [
    {
     "data": {
      "text/plain": [
       "12312312312321312312312312322552552"
      ]
     },
     "execution_count": 55,
     "metadata": {},
     "output_type": "execute_result"
    }
   ],
   "source": [
    "12312312312321312312312312321321321 +1231231"
   ]
  },
  {
   "cell_type": "code",
   "execution_count": 54,
   "metadata": {},
   "outputs": [
    {
     "name": "stdout",
     "output_type": "stream",
     "text": [
      "Kết Luận: Độ lớn tuỳ ý\n"
     ]
    }
   ],
   "source": [
    "print(\"Kết Luận: Độ lớn tuỳ ý\")"
   ]
  },
  {
   "cell_type": "code",
   "execution_count": 53,
   "metadata": {},
   "outputs": [
    {
     "data": {
      "text/plain": [
       "0"
      ]
     },
     "execution_count": 53,
     "metadata": {},
     "output_type": "execute_result"
    }
   ],
   "source": [
    "1-1"
   ]
  },
  {
   "cell_type": "code",
   "execution_count": 56,
   "metadata": {},
   "outputs": [
    {
     "data": {
      "text/plain": [
       "20"
      ]
     },
     "execution_count": 56,
     "metadata": {},
     "output_type": "execute_result"
    }
   ],
   "source": [
    "5*4"
   ]
  },
  {
   "cell_type": "code",
   "execution_count": 57,
   "metadata": {},
   "outputs": [
    {
     "name": "stdout",
     "output_type": "stream",
     "text": [
      "Luỹ thừa\n"
     ]
    }
   ],
   "source": [
    "print(\"Luỹ thừa\")"
   ]
  },
  {
   "cell_type": "code",
   "execution_count": 70,
   "metadata": {},
   "outputs": [
    {
     "data": {
      "text/plain": [
       "10715086071862673209484250490600018105614048117055336074437503883703510511249361224931983788156958581275946729175531468251871452856923140435984577574698574803934567774824230985421074605062371141877954182153046474983581941267398767559165543946077062914571196477686542167660429831652624386837205668069376"
      ]
     },
     "execution_count": 70,
     "metadata": {},
     "output_type": "execute_result"
    }
   ],
   "source": [
    "2**1000"
   ]
  },
  {
   "cell_type": "code",
   "execution_count": null,
   "metadata": {},
   "outputs": [],
   "source": [
    "-5\n",
    "type(-5)"
   ]
  },
  {
   "cell_type": "code",
   "execution_count": 71,
   "metadata": {},
   "outputs": [
    {
     "name": "stdout",
     "output_type": "stream",
     "text": [
      "Integer /ˈɪntɪdʒə/ - số nguyên\n"
     ]
    }
   ],
   "source": [
    "print(\"Integer /ˈɪntɪdʒə/ - số nguyên\")"
   ]
  },
  {
   "cell_type": "code",
   "execution_count": 72,
   "metadata": {},
   "outputs": [
    {
     "name": "stdout",
     "output_type": "stream",
     "text": [
      "Tiếp Theo: Phép chia - division / slash\n"
     ]
    }
   ],
   "source": [
    "print(\"Tiếp Theo: Phép chia - division / slash\")"
   ]
  },
  {
   "cell_type": "code",
   "execution_count": 73,
   "metadata": {},
   "outputs": [
    {
     "data": {
      "text/plain": [
       "2.0"
      ]
     },
     "execution_count": 73,
     "metadata": {},
     "output_type": "execute_result"
    }
   ],
   "source": [
    "10 /  5"
   ]
  },
  {
   "cell_type": "code",
   "execution_count": 74,
   "metadata": {},
   "outputs": [
    {
     "ename": "ZeroDivisionError",
     "evalue": "division by zero",
     "output_type": "error",
     "traceback": [
      "\u001b[0;31m---------------------------------------------------------------------------\u001b[0m",
      "\u001b[0;31mZeroDivisionError\u001b[0m                         Traceback (most recent call last)",
      "\u001b[0;32m<ipython-input-74-b2ce00d5adf0>\u001b[0m in \u001b[0;36m<module>\u001b[0;34m\u001b[0m\n\u001b[0;32m----> 1\u001b[0;31m \u001b[0;36m123\u001b[0m\u001b[0;34m/\u001b[0m\u001b[0;36m0\u001b[0m\u001b[0;34m\u001b[0m\u001b[0;34m\u001b[0m\u001b[0m\n\u001b[0m",
      "\u001b[0;31mZeroDivisionError\u001b[0m: division by zero"
     ]
    }
   ],
   "source": [
    "123/0"
   ]
  },
  {
   "cell_type": "code",
   "execution_count": 75,
   "metadata": {},
   "outputs": [
    {
     "name": "stdout",
     "output_type": "stream",
     "text": [
      "Không thể thực hiện phép chia cho số 0\n"
     ]
    }
   ],
   "source": [
    "print(\"Không thể thực hiện phép chia cho số 0\")"
   ]
  },
  {
   "cell_type": "code",
   "execution_count": 76,
   "metadata": {},
   "outputs": [
    {
     "data": {
      "text/plain": [
       "1"
      ]
     },
     "execution_count": 76,
     "metadata": {},
     "output_type": "execute_result"
    }
   ],
   "source": [
    "7%3"
   ]
  },
  {
   "cell_type": "code",
   "execution_count": 77,
   "metadata": {},
   "outputs": [
    {
     "name": "stdout",
     "output_type": "stream",
     "text": [
      "chia lấy dư\n"
     ]
    }
   ],
   "source": [
    "print(\"chia lấy dư\")"
   ]
  },
  {
   "cell_type": "code",
   "execution_count": 78,
   "metadata": {},
   "outputs": [
    {
     "name": "stdout",
     "output_type": "stream",
     "text": [
      "<class 'float'>\n",
      "Float - fləʊt - số thực - R\n"
     ]
    }
   ],
   "source": [
    "print(type(1.5))\n",
    "print(\"Float - fləʊt - số thực - R\")"
   ]
  },
  {
   "cell_type": "code",
   "execution_count": 79,
   "metadata": {},
   "outputs": [
    {
     "name": "stdout",
     "output_type": "stream",
     "text": [
      "1.4142135623730951\n",
      "Số hữu tỷ + số vô tỷ \n",
      " Hữu tỷ: có tỷ lệ - biểu diễn đc bằng 1 phân sô \n",
      " Vô tỷ:\n",
      " Căn 2\n"
     ]
    }
   ],
   "source": [
    "import math; \n",
    "print(math.sqrt(2))\n",
    "\n",
    "print(\"Số hữu tỷ + số vô tỷ \\n Hữu tỷ: có tỷ lệ - biểu diễn đc bằng 1 phân sô \\n Vô tỷ:\\n Căn 2\")"
   ]
  },
  {
   "cell_type": "code",
   "execution_count": 80,
   "metadata": {},
   "outputs": [
    {
     "name": "stdout",
     "output_type": "stream",
     "text": [
      "Float - biểu diễn gần đúng / biểu diễn xấp xỉ\n"
     ]
    },
    {
     "data": {
      "text/plain": [
       "0.2"
      ]
     },
     "execution_count": 80,
     "metadata": {},
     "output_type": "execute_result"
    }
   ],
   "source": [
    "print(\"Float - biểu diễn gần đúng / biểu diễn xấp xỉ\")\n",
    "0.1+0.1"
   ]
  },
  {
   "cell_type": "code",
   "execution_count": 81,
   "metadata": {},
   "outputs": [
    {
     "name": "stdout",
     "output_type": "stream",
     "text": [
      "câu hỏi đặt ra tại sao nó lại output như kia?\n",
      "0.30000000000000004\n"
     ]
    }
   ],
   "source": [
    "print(\"câu hỏi đặt ra tại sao nó lại output như kia?\")\n",
    "print(0.1 + 0.1 + 0.1)\n"
   ]
  },
  {
   "cell_type": "code",
   "execution_count": 83,
   "metadata": {},
   "outputs": [
    {
     "name": "stdout",
     "output_type": "stream",
     "text": [
      "kiểu dữ liệu so sánh Boolean\n"
     ]
    }
   ],
   "source": [
    "print(\"kiểu dữ liệu so sánh Boolean\")\n"
   ]
  },
  {
   "cell_type": "code",
   "execution_count": 84,
   "metadata": {},
   "outputs": [
    {
     "data": {
      "text/plain": [
       "False"
      ]
     },
     "execution_count": 84,
     "metadata": {},
     "output_type": "execute_result"
    }
   ],
   "source": [
    "1==2\n"
   ]
  },
  {
   "cell_type": "code",
   "execution_count": 85,
   "metadata": {},
   "outputs": [
    {
     "data": {
      "text/plain": [
       "True"
      ]
     },
     "execution_count": 85,
     "metadata": {},
     "output_type": "execute_result"
    }
   ],
   "source": [
    "1==1"
   ]
  },
  {
   "cell_type": "code",
   "execution_count": 86,
   "metadata": {},
   "outputs": [
    {
     "data": {
      "text/plain": [
       "False"
      ]
     },
     "execution_count": 86,
     "metadata": {},
     "output_type": "execute_result"
    }
   ],
   "source": [
    "10e29 == 10 ** 30"
   ]
  },
  {
   "cell_type": "code",
   "execution_count": 88,
   "metadata": {},
   "outputs": [
    {
     "data": {
      "text/plain": [
       "1000000000000000019884624838656"
      ]
     },
     "execution_count": 88,
     "metadata": {},
     "output_type": "execute_result"
    }
   ],
   "source": [
    "int(10e29)"
   ]
  },
  {
   "cell_type": "code",
   "execution_count": 89,
   "metadata": {},
   "outputs": [
    {
     "name": "stdout",
     "output_type": "stream",
     "text": [
      "Không thực hiện tính toán chính xác, so sánh kiểu float\n"
     ]
    }
   ],
   "source": [
    "print(\"Không thực hiện tính toán chính xác, so sánh kiểu float\")"
   ]
  },
  {
   "cell_type": "code",
   "execution_count": 90,
   "metadata": {},
   "outputs": [
    {
     "data": {
      "text/plain": [
       "True"
      ]
     },
     "execution_count": 90,
     "metadata": {},
     "output_type": "execute_result"
    }
   ],
   "source": [
    "3 > 1"
   ]
  },
  {
   "cell_type": "code",
   "execution_count": 91,
   "metadata": {},
   "outputs": [
    {
     "data": {
      "text/plain": [
       "True"
      ]
     },
     "execution_count": 91,
     "metadata": {},
     "output_type": "execute_result"
    }
   ],
   "source": [
    "4 < 5 < 6"
   ]
  },
  {
   "cell_type": "code",
   "execution_count": 92,
   "metadata": {},
   "outputs": [
    {
     "data": {
      "text/plain": [
       "True"
      ]
     },
     "execution_count": 92,
     "metadata": {},
     "output_type": "execute_result"
    }
   ],
   "source": [
    "5 != 4"
   ]
  },
  {
   "cell_type": "code",
   "execution_count": 93,
   "metadata": {},
   "outputs": [
    {
     "data": {
      "text/plain": [
       "bool"
      ]
     },
     "execution_count": 93,
     "metadata": {},
     "output_type": "execute_result"
    }
   ],
   "source": [
    "type(5 == 4)"
   ]
  },
  {
   "cell_type": "code",
   "execution_count": 94,
   "metadata": {},
   "outputs": [
    {
     "data": {
      "text/plain": [
       "False"
      ]
     },
     "execution_count": 94,
     "metadata": {},
     "output_type": "execute_result"
    }
   ],
   "source": [
    "5 == 4"
   ]
  },
  {
   "cell_type": "code",
   "execution_count": 95,
   "metadata": {},
   "outputs": [
    {
     "name": "stdout",
     "output_type": "stream",
     "text": [
      "Logic\n"
     ]
    }
   ],
   "source": [
    "print(\"Logic\")"
   ]
  },
  {
   "cell_type": "code",
   "execution_count": 96,
   "metadata": {},
   "outputs": [
    {
     "data": {
      "text/plain": [
       "False"
      ]
     },
     "execution_count": 96,
     "metadata": {},
     "output_type": "execute_result"
    }
   ],
   "source": [
    "not True"
   ]
  },
  {
   "cell_type": "code",
   "execution_count": 97,
   "metadata": {},
   "outputs": [
    {
     "data": {
      "text/plain": [
       "True"
      ]
     },
     "execution_count": 97,
     "metadata": {},
     "output_type": "execute_result"
    }
   ],
   "source": [
    "True is not False"
   ]
  },
  {
   "cell_type": "code",
   "execution_count": 98,
   "metadata": {},
   "outputs": [
    {
     "data": {
      "text/plain": [
       "True"
      ]
     },
     "execution_count": 98,
     "metadata": {},
     "output_type": "execute_result"
    }
   ],
   "source": [
    "False is not True"
   ]
  },
  {
   "cell_type": "code",
   "execution_count": 99,
   "metadata": {},
   "outputs": [
    {
     "data": {
      "text/plain": [
       "True"
      ]
     },
     "execution_count": 99,
     "metadata": {},
     "output_type": "execute_result"
    }
   ],
   "source": [
    "False == (not True)"
   ]
  },
  {
   "cell_type": "code",
   "execution_count": 101,
   "metadata": {},
   "outputs": [
    {
     "name": "stdout",
     "output_type": "stream",
     "text": [
      "Tiếp đến kiểu dữ liệu dict\n"
     ]
    }
   ],
   "source": [
    "print(\"Tiếp đến kiểu dữ liệu dict\")"
   ]
  },
  {
   "cell_type": "code",
   "execution_count": 102,
   "metadata": {},
   "outputs": [],
   "source": [
    "my_dict = {'key1':\"value1\", \"key2\":\"value2\"}"
   ]
  },
  {
   "cell_type": "code",
   "execution_count": 103,
   "metadata": {},
   "outputs": [
    {
     "data": {
      "text/plain": [
       "{'key1': 'value1', 'key2': 'value2'}"
      ]
     },
     "execution_count": 103,
     "metadata": {},
     "output_type": "execute_result"
    }
   ],
   "source": [
    "my_dict"
   ]
  },
  {
   "cell_type": "code",
   "execution_count": 104,
   "metadata": {},
   "outputs": [
    {
     "data": {
      "text/plain": [
       "'value1'"
      ]
     },
     "execution_count": 104,
     "metadata": {},
     "output_type": "execute_result"
    }
   ],
   "source": [
    "my_dict['key1']"
   ]
  },
  {
   "cell_type": "markdown",
   "metadata": {},
   "source": [
    "## Dict "
   ]
  },
  {
   "cell_type": "code",
   "execution_count": 105,
   "metadata": {},
   "outputs": [],
   "source": [
    "complex_dict = {'key1':\"value1\", \"key2\":{\"child_key1\":\"value_child\"}}"
   ]
  },
  {
   "cell_type": "code",
   "execution_count": 106,
   "metadata": {},
   "outputs": [
    {
     "data": {
      "text/plain": [
       "{'key1': 'value1', 'key2': {'child_key1': 'value_child'}}"
      ]
     },
     "execution_count": 106,
     "metadata": {},
     "output_type": "execute_result"
    }
   ],
   "source": [
    "complex_dict"
   ]
  },
  {
   "cell_type": "code",
   "execution_count": 107,
   "metadata": {},
   "outputs": [],
   "source": [
    "my_info = {\"name\":\"Nguyễn Anh Tuấn\", \"Men\": True, \"info_detail\":{\"sdt\":849876654}}\n"
   ]
  },
  {
   "cell_type": "code",
   "execution_count": 108,
   "metadata": {},
   "outputs": [
    {
     "data": {
      "text/plain": [
       "{'name': 'Nguyễn Anh Tuấn', 'Men': True, 'info_detail': {'sdt': 849876654}}"
      ]
     },
     "execution_count": 108,
     "metadata": {},
     "output_type": "execute_result"
    }
   ],
   "source": [
    "my_info"
   ]
  },
  {
   "cell_type": "code",
   "execution_count": 109,
   "metadata": {},
   "outputs": [
    {
     "data": {
      "text/plain": [
       "'Nguyễn Anh Tuấn'"
      ]
     },
     "execution_count": 109,
     "metadata": {},
     "output_type": "execute_result"
    }
   ],
   "source": [
    "my_info['name']"
   ]
  },
  {
   "cell_type": "code",
   "execution_count": 110,
   "metadata": {},
   "outputs": [
    {
     "data": {
      "text/plain": [
       "True"
      ]
     },
     "execution_count": 110,
     "metadata": {},
     "output_type": "execute_result"
    }
   ],
   "source": [
    "my_info['Men']"
   ]
  },
  {
   "cell_type": "code",
   "execution_count": 111,
   "metadata": {},
   "outputs": [
    {
     "data": {
      "text/plain": [
       "{'sdt': 849876654}"
      ]
     },
     "execution_count": 111,
     "metadata": {},
     "output_type": "execute_result"
    }
   ],
   "source": [
    "my_info['info_detail']"
   ]
  },
  {
   "cell_type": "code",
   "execution_count": 112,
   "metadata": {},
   "outputs": [
    {
     "data": {
      "text/plain": [
       "849876654"
      ]
     },
     "execution_count": 112,
     "metadata": {},
     "output_type": "execute_result"
    }
   ],
   "source": [
    "my_info['info_detail']['sdt']"
   ]
  },
  {
   "cell_type": "code",
   "execution_count": 113,
   "metadata": {},
   "outputs": [],
   "source": [
    "my_info['name'] = \"Nguyen văn A\""
   ]
  },
  {
   "cell_type": "code",
   "execution_count": 114,
   "metadata": {},
   "outputs": [
    {
     "data": {
      "text/plain": [
       "'Nguyen văn A'"
      ]
     },
     "execution_count": 114,
     "metadata": {},
     "output_type": "execute_result"
    }
   ],
   "source": [
    "my_info['name']"
   ]
  },
  {
   "cell_type": "markdown",
   "metadata": {},
   "source": [
    "# Bài toán quản lý học viên trên console by python"
   ]
  },
  {
   "cell_type": "markdown",
   "metadata": {},
   "source": [
    "#### Trả lời 1 cài câu hỏi trước khi viết chương trình\n",
    "- Mình làm cho ai? và làm cái gi?\n",
    "- Đối tượng này có thuộc tính gi? kiểu giữ liệu là gi?\n",
    "- Mô tả đối tương 1 các cụ thể, viết ra giấy để diễn tả tư duy của mình 1 cách mạch lạc"
   ]
  },
  {
   "cell_type": "code",
   "execution_count": 116,
   "metadata": {},
   "outputs": [],
   "source": [
    "danh_sach_hv = []\n",
    "hv1 = {\"ma_hv\":\"AT123\", \"ten_hv\":\"nguyen van a\"}\n",
    "danh_sach_hv.append(hv1)"
   ]
  },
  {
   "cell_type": "code",
   "execution_count": 117,
   "metadata": {},
   "outputs": [
    {
     "data": {
      "text/plain": [
       "{'ma_hv': 'AT123', 'ten_hv': 'nguyen van a'}"
      ]
     },
     "execution_count": 117,
     "metadata": {},
     "output_type": "execute_result"
    }
   ],
   "source": [
    "hv1"
   ]
  },
  {
   "cell_type": "code",
   "execution_count": 118,
   "metadata": {},
   "outputs": [
    {
     "data": {
      "text/plain": [
       "[{'ma_hv': 'AT123', 'ten_hv': 'nguyen van a'}]"
      ]
     },
     "execution_count": 118,
     "metadata": {},
     "output_type": "execute_result"
    }
   ],
   "source": [
    "danh_sach_hv"
   ]
  },
  {
   "cell_type": "code",
   "execution_count": 119,
   "metadata": {},
   "outputs": [
    {
     "data": {
      "text/plain": [
       "{'ma_hv': 'AT345', 'ten_hv': 'nguyen van B'}"
      ]
     },
     "execution_count": 119,
     "metadata": {},
     "output_type": "execute_result"
    }
   ],
   "source": [
    "hv2 = {\"ma_hv\":\"AT345\", \"ten_hv\":\"nguyen van B\"}\n",
    "hv2"
   ]
  },
  {
   "cell_type": "code",
   "execution_count": 123,
   "metadata": {},
   "outputs": [],
   "source": [
    "danh_sach_hv.append(hv2)\n"
   ]
  },
  {
   "cell_type": "code",
   "execution_count": 126,
   "metadata": {},
   "outputs": [
    {
     "data": {
      "text/plain": [
       "[{'ma_hv': 'AT123', 'ten_hv': 'nguyen van a'},\n",
       " {'ma_hv': 'AT345', 'ten_hv': 'nguyen van B'}]"
      ]
     },
     "execution_count": 126,
     "metadata": {},
     "output_type": "execute_result"
    }
   ],
   "source": [
    "danh_sach_hv"
   ]
  },
  {
   "cell_type": "code",
   "execution_count": 131,
   "metadata": {},
   "outputs": [
    {
     "name": "stdout",
     "output_type": "stream",
     "text": [
      "\n",
      "-------Thông tin học viên: -------\n",
      "mã sv:  AT123 \n",
      "tên hv:  nguyen van a\n",
      "\n",
      "-------Thông tin học viên: -------\n",
      "mã sv:  AT345 \n",
      "tên hv:  nguyen van B\n"
     ]
    }
   ],
   "source": [
    "for hv in danh_sach_hv:\n",
    "    print(\"\\n-------Thông tin học viên: -------\")\n",
    "    print(\"mã sv: \", hv['ma_hv'], \"\\ntên hv: \", hv['ten_hv'])\n",
    "    "
   ]
  },
  {
   "cell_type": "code",
   "execution_count": 135,
   "metadata": {},
   "outputs": [
    {
     "data": {
      "text/plain": [
       "2"
      ]
     },
     "execution_count": 135,
     "metadata": {},
     "output_type": "execute_result"
    }
   ],
   "source": [
    "len(danh_sach_hv)"
   ]
  },
  {
   "cell_type": "code",
   "execution_count": 137,
   "metadata": {},
   "outputs": [
    {
     "name": "stdout",
     "output_type": "stream",
     "text": [
      "Enter your name: Nguyen Anh Tuan\n"
     ]
    }
   ],
   "source": [
    "name = input(\"Enter your name: \")"
   ]
  },
  {
   "cell_type": "code",
   "execution_count": 138,
   "metadata": {},
   "outputs": [
    {
     "data": {
      "text/plain": [
       "'Nguyen Anh Tuan'"
      ]
     },
     "execution_count": 138,
     "metadata": {},
     "output_type": "execute_result"
    }
   ],
   "source": [
    "name"
   ]
  },
  {
   "cell_type": "code",
   "execution_count": 139,
   "metadata": {},
   "outputs": [
    {
     "name": "stdout",
     "output_type": "stream",
     "text": [
      "Enter your age: 18\n"
     ]
    }
   ],
   "source": [
    "age = input(\"Enter your age: \")"
   ]
  },
  {
   "cell_type": "code",
   "execution_count": 140,
   "metadata": {},
   "outputs": [
    {
     "data": {
      "text/plain": [
       "'18'"
      ]
     },
     "execution_count": 140,
     "metadata": {},
     "output_type": "execute_result"
    }
   ],
   "source": [
    "age"
   ]
  },
  {
   "cell_type": "code",
   "execution_count": 141,
   "metadata": {},
   "outputs": [
    {
     "data": {
      "text/plain": [
       "str"
      ]
     },
     "execution_count": 141,
     "metadata": {},
     "output_type": "execute_result"
    }
   ],
   "source": [
    "type(age)"
   ]
  },
  {
   "cell_type": "code",
   "execution_count": 146,
   "metadata": {},
   "outputs": [
    {
     "data": {
      "text/plain": [
       "18"
      ]
     },
     "execution_count": 146,
     "metadata": {},
     "output_type": "execute_result"
    }
   ],
   "source": [
    "age = int(age)\n",
    "age"
   ]
  },
  {
   "cell_type": "code",
   "execution_count": null,
   "metadata": {},
   "outputs": [],
   "source": []
  },
  {
   "cell_type": "code",
   "execution_count": 147,
   "metadata": {},
   "outputs": [
    {
     "data": {
      "text/plain": [
       "int"
      ]
     },
     "execution_count": 147,
     "metadata": {},
     "output_type": "execute_result"
    }
   ],
   "source": [
    "type(age)"
   ]
  },
  {
   "cell_type": "markdown",
   "metadata": {},
   "source": [
    "# Chương trình cuối"
   ]
  },
  {
   "cell_type": "code",
   "execution_count": null,
   "metadata": {},
   "outputs": [
    {
     "name": "stdout",
     "output_type": "stream",
     "text": [
      "Mời bạn chọn chức năng:\n",
      "             1: thêm hv \n",
      "             2: xem danh sách hv \n",
      "             3: xoá môt hv \n",
      "             4: đếm số hv\n",
      "4\n",
      "Số học viện hiện tại trong lớp là:  0\n",
      "Mời bạn chọn chức năng:\n",
      "             1: thêm hv \n",
      "             2: xem danh sách hv \n",
      "             3: xoá môt hv \n",
      "             4: đếm số hv\n",
      "1\n",
      "Thêm hv\n",
      "mời bạn nhập mã sv: AT110376\n",
      "mời bạn nhập tên sv: Nguyễn Anh Tuấn\n",
      "Đã thêm hv vào lớp  AT110376\n",
      "Mời bạn chọn chức năng:\n",
      "             1: thêm hv \n",
      "             2: xem danh sách hv \n",
      "             3: xoá môt hv \n",
      "             4: đếm số hv\n",
      "2\n",
      "Xem danh sách hv \n",
      " Danh sách hv trong lớp [{'ma_hv': 'AT110376', 'ten_hv': 'Nguyễn Anh Tuấn'}]\n",
      "Mời bạn chọn chức năng:\n",
      "             1: thêm hv \n",
      "             2: xem danh sách hv \n",
      "             3: xoá môt hv \n",
      "             4: đếm số hv\n",
      "1\n",
      "Thêm hv\n",
      "mời bạn nhập mã sv: AT11123\n",
      "mời bạn nhập tên sv: Nguyễn Văn A\n",
      "Đã thêm hv vào lớp  AT11123\n",
      "Mời bạn chọn chức năng:\n",
      "             1: thêm hv \n",
      "             2: xem danh sách hv \n",
      "             3: xoá môt hv \n",
      "             4: đếm số hv\n",
      "2\n",
      "Xem danh sách hv \n",
      " Danh sách hv trong lớp [{'ma_hv': 'AT110376', 'ten_hv': 'Nguyễn Anh Tuấn'}, {'ma_hv': 'AT11123', 'ten_hv': 'Nguyễn Văn A'}]\n",
      "Mời bạn chọn chức năng:\n",
      "             1: thêm hv \n",
      "             2: xem danh sách hv \n",
      "             3: xoá môt hv \n",
      "             4: đếm số hv\n",
      "1\n",
      "Thêm hv\n",
      "mời bạn nhập mã sv: AT110456\n",
      "mời bạn nhập tên sv: Nguyễn Văn B\n",
      "Đã thêm hv vào lớp  AT110456\n",
      "Mời bạn chọn chức năng:\n",
      "             1: thêm hv \n",
      "             2: xem danh sách hv \n",
      "             3: xoá môt hv \n",
      "             4: đếm số hv\n",
      "2\n",
      "Xem danh sách hv \n",
      " Danh sách hv trong lớp [{'ma_hv': 'AT110376', 'ten_hv': 'Nguyễn Anh Tuấn'}, {'ma_hv': 'AT11123', 'ten_hv': 'Nguyễn Văn A'}, {'ma_hv': 'AT110456', 'ten_hv': 'Nguyễn Văn B'}]\n",
      "Mời bạn chọn chức năng:\n",
      "             1: thêm hv \n",
      "             2: xem danh sách hv \n",
      "             3: xoá môt hv \n",
      "             4: đếm số hv\n",
      "4\n",
      "Số học viện hiện tại trong lớp là:  3\n",
      "Mời bạn chọn chức năng:\n",
      "             1: thêm hv \n",
      "             2: xem danh sách hv \n",
      "             3: xoá môt hv \n",
      "             4: đếm số hv\n",
      "3\n",
      "Xoá một học viên khỏi lớp\n",
      "\n",
      "Mời bạn nhập mã hv cần xoá: AT110456\n",
      "Không tìm thấy học viên cần xoá\n",
      "Không tìm thấy học viên cần xoá\n",
      "Đã xoá học viên có mã:  AT110456\n"
     ]
    }
   ],
   "source": [
    "def quan_ly_hv():\n",
    "    danh_sach_hv = []\n",
    "    while True:\n",
    "        case = input(\"Mời bạn chọn chức năng:\\n \\\n",
    "            1: thêm hv \\n \\\n",
    "            2: xem danh sách hv \\n \\\n",
    "            3: xoá môt hv \\n \\\n",
    "            4: đếm số hv\\n\")\n",
    "        if case == \"1\":\n",
    "            print(\"Thêm hv\")\n",
    "            hv = {\"ma_hv\": input(\"mời bạn nhập mã sv: \"), \"ten_hv\": input(\"mời bạn nhập tên sv: \")}\n",
    "            danh_sach_hv.append(hv)\n",
    "            print(\"Đã thêm hv vào lớp \", hv['ma_hv'])\n",
    "\n",
    "        elif case == \"2\":\n",
    "            print(\"Xem danh sách hv \\n Danh sách hv trong lớp\", danh_sach_hv)\n",
    "\n",
    "        elif case == \"3\":\n",
    "            print(\"Xoá một học viên khỏi lớp\\n\")\n",
    "            ma_hv = input(\"Mời bạn nhập mã hv cần xoá: \")\n",
    "            i = 0\n",
    "            if len(danh_sach_hv) == 0:\n",
    "                print(\"Lớp không có sv\")\n",
    "\n",
    "            for hv in danh_sach_hv:\n",
    "                if hv['ma_hv'] == ma_hv:\n",
    "                    del danh_sach_hv[i]\n",
    "                    print(\"Đã xoá học viên có mã: \", ma_hv)\n",
    "                i = i +1\n",
    "\n",
    "\n",
    "        elif case == \"4\":\n",
    "            print(\"Số học viện hiện tại trong lớp là: \", len(danh_sach_hv))\n",
    "\n",
    "        else:\n",
    "\n",
    "            print(\"tính năng không tồn tại vui long chọn lại ! pls\")\n",
    "\n",
    "\n",
    "\n",
    "quan_ly_hv()"
   ]
  },
  {
   "cell_type": "markdown",
   "metadata": {},
   "source": []
  },
  {
   "cell_type": "code",
   "execution_count": null,
   "metadata": {},
   "outputs": [],
   "source": []
  },
  {
   "cell_type": "code",
   "execution_count": null,
   "metadata": {},
   "outputs": [],
   "source": []
  }
 ],
 "metadata": {
  "kernelspec": {
   "display_name": "Python 3",
   "language": "python",
   "name": "python3"
  },
  "language_info": {
   "codemirror_mode": {
    "name": "ipython",
    "version": 3
   },
   "file_extension": ".py",
   "mimetype": "text/x-python",
   "name": "python",
   "nbconvert_exporter": "python",
   "pygments_lexer": "ipython3",
   "version": "3.7.3"
  }
 },
 "nbformat": 4,
 "nbformat_minor": 2
}
